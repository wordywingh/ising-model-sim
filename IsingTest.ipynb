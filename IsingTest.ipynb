{
  "nbformat": 4,
  "nbformat_minor": 0,
  "metadata": {
    "kernelspec": {
      "display_name": "Python 3",
      "language": "python",
      "name": "python3"
    },
    "language_info": {
      "codemirror_mode": {
        "name": "ipython",
        "version": 3
      },
      "file_extension": ".py",
      "mimetype": "text/x-python",
      "name": "python",
      "nbconvert_exporter": "python",
      "pygments_lexer": "ipython3",
      "version": "3.8.3"
    },
    "colab": {
      "name": "proj_3_IsingTest.ipynb",
      "provenance": [],
      "collapsed_sections": []
    }
  },
  "cells": [
    {
      "cell_type": "code",
      "metadata": {
        "id": "1vGpcPAirbPQ"
      },
      "source": [
        "import numpy as np\n",
        "import matplotlib.pyplot as plt\n",
        "import matplotlib as mpl\n",
        "from proj_3_module import *"
      ],
      "execution_count": null,
      "outputs": []
    },
    {
      "cell_type": "markdown",
      "metadata": {
        "id": "MNYLw14drbPV"
      },
      "source": [
        "# Testing for Weighted Die Function"
      ]
    },
    {
      "cell_type": "markdown",
      "metadata": {
        "id": "8kqK1HlGrbPW"
      },
      "source": [
        "## Testing Theory"
      ]
    },
    {
      "cell_type": "markdown",
      "metadata": {
        "id": "gQ_pqVM6rbPX"
      },
      "source": [
        "In this notebook I test my weighted die function with the following procedure:\n",
        "\n",
        "1) Give my function the input for various num_steps so that I can see it operate through a variety of step quantities. This represents my function simulating the game a certain amount of times.\n",
        "\n",
        "2) Print out my function ouput. This is how much money my function tells me I win per game.\n",
        "\n",
        "3) Compare the simulated output with the analytical amount of earnings. I want to know my simulation's calculated expected average versus the analytical expected average.\n",
        "\n",
        "The amount of earnings I am supposed to win in this game is simple to calculate. Since I win on a 1 or 2 and lose on 3, 4, 5, and 6, and since the chance of 1 or 2 is three times as great as 3, 4, 5, or 6, I have a 60% chance to win and a 40% chance to lose. Since each game is played for 1 dollar, my expected earnings is 0.2 dollars per game."
      ]
    },
    {
      "cell_type": "markdown",
      "metadata": {
        "id": "b8QpfM6XrbPX"
      },
      "source": [
        "## Testing Code"
      ]
    },
    {
      "cell_type": "code",
      "metadata": {
        "id": "CkhPnh_4rbPY",
        "outputId": "8fa9614b-5e36-446a-dc6d-2e44621da588"
      },
      "source": [
        "steps_array = [10,100,1000,10000,100000,1000000,10000000]\n",
        "\n",
        "for x in steps_array:\n",
        "    print('Amount of Times Played:',x)\n",
        "    print('Average Earnings per Game :',weighted_die(x))\n",
        "    print('Expected Earnings per Game:', 0.2)\n",
        "    print('')"
      ],
      "execution_count": null,
      "outputs": [
        {
          "output_type": "stream",
          "text": [
            "Amount of Times Played: 10\n",
            "Average Earnings per Game : 0.2\n",
            "Expected Earnings per Game: 0.2\n",
            "\n",
            "Amount of Times Played: 100\n",
            "Average Earnings per Game : 0.18\n",
            "Expected Earnings per Game: 0.2\n",
            "\n",
            "Amount of Times Played: 1000\n",
            "Average Earnings per Game : 0.202\n",
            "Expected Earnings per Game: 0.2\n",
            "\n",
            "Amount of Times Played: 10000\n",
            "Average Earnings per Game : 0.1976\n",
            "Expected Earnings per Game: 0.2\n",
            "\n",
            "Amount of Times Played: 100000\n",
            "Average Earnings per Game : 0.20136\n",
            "Expected Earnings per Game: 0.2\n",
            "\n",
            "Amount of Times Played: 1000000\n",
            "Average Earnings per Game : 0.199422\n",
            "Expected Earnings per Game: 0.2\n",
            "\n",
            "Amount of Times Played: 10000000\n",
            "Average Earnings per Game : 0.1995338\n",
            "Expected Earnings per Game: 0.2\n",
            "\n"
          ],
          "name": "stdout"
        }
      ]
    },
    {
      "cell_type": "markdown",
      "metadata": {
        "id": "9OsBWtZfrbPa"
      },
      "source": [
        "## Closing Remarks"
      ]
    },
    {
      "cell_type": "markdown",
      "metadata": {
        "id": "Xf3kOrzkrbPa"
      },
      "source": [
        "It looks like for larger number of games played the simulation is better at calculating a average earnings per game that is closer to the analytical solution. For a number of games played approaching infinity the average earnings given by the simulation looks like it will approach 0.2.\n",
        "\n",
        "The simulation looks like it is functioning correctly because the more games it simulates the closer it gets to the analytical value of average earnings."
      ]
    },
    {
      "cell_type": "markdown",
      "metadata": {
        "id": "fH4DQMd8rbPb"
      },
      "source": [
        "# Testing for Two Dimensional Ising Function"
      ]
    },
    {
      "cell_type": "markdown",
      "metadata": {
        "id": "LvsUsKCzrbPc"
      },
      "source": [
        "## Testing Theory"
      ]
    },
    {
      "cell_type": "markdown",
      "metadata": {
        "id": "AbskD4y-rbPd"
      },
      "source": [
        "In this notebook I test my two dimensional ising function with the following procedure:\n",
        "\n",
        "1) Call my function with a given size L, a set temperature, and enough steps to reach equilibrium.\n",
        "\n",
        "2) Plot the lattice that is returned on a grid by representing up spins as white boxes and down spins as black boxes.\n",
        "\n",
        "3) Repeat steps 1 and 2 with different temperature regimes (below critical, near critical, and above critical).\n",
        "\n",
        "4) Compare the plots with what we expect analytically.\n",
        "\n",
        "Since the two dimensional ising function is supposed to represent a ferromagnetic material, we can expect certain grids once the lattice reaches equilibrium.\n",
        "\n",
        "For temperatures below the critical temperature: We should see that the lattice is aligned and has regions of same spin.\n",
        "\n",
        "For temperatures near the critical: We should see something that resembles a phase transition in the ferromagnetic material. The regions of spin are seen as either breaking down or forming depending on if you're cooling or heating the material.]\n",
        "\n",
        "For temperatures above the critical: We should see a chaotic plot with no regions of similar spin. There are no regions of similar spin at high temperatures because temperature flucuations break up those regions."
      ]
    },
    {
      "cell_type": "markdown",
      "metadata": {
        "id": "h7DAh59QrbPe"
      },
      "source": [
        "## Testing Code"
      ]
    },
    {
      "cell_type": "code",
      "metadata": {
        "id": "UtNnbrXvrbPe",
        "outputId": "b445ace2-8e86-46b6-c221-f3e7a9855847"
      },
      "source": [
        "lattice = two_dim_ising(64,1.5,100*64*64)\n",
        "\n",
        "#black = -1 and white = 1\n",
        "colormap = mpl.colors.ListedColormap(['black', 'white'])\n",
        "img = plt.imshow(lattice, interpolation='none', cmap = colormap)"
      ],
      "execution_count": null,
      "outputs": [
        {
          "output_type": "display_data",
          "data": {
            "image/png": "[encoded data removed]",
            "text/plain": [
              "<Figure size 432x288 with 1 Axes>"
            ]
          },
          "metadata": {
            "tags": [],
            "needs_background": "light"
          }
        }
      ]
    },
    {
      "cell_type": "code",
      "metadata": {
        "id": "xJ-XJ9MnrbPe",
        "outputId": "decef801-28fd-49dd-dced-de6388840c8e"
      },
      "source": [
        "lattice = two_dim_ising(64,2.27,100*64*64)\n",
        "\n",
        "#black = -1 and white = 1\n",
        "colormap = mpl.colors.ListedColormap(['black', 'white'])\n",
        "img = plt.imshow(lattice, interpolation='none', cmap = colormap)"
      ],
      "execution_count": null,
      "outputs": [
        {
          "output_type": "display_data",
          "data": {
            "image/png": "[encoded data removed]",
            "text/plain": [
              "<Figure size 432x288 with 1 Axes>"
            ]
          },
          "metadata": {
            "tags": [],
            "needs_background": "light"
          }
        }
      ]
    },
    {
      "cell_type": "code",
      "metadata": {
        "id": "20swcnQ_rbPe",
        "outputId": "f408970c-4441-459f-a716-e4f12e0d5ebe"
      },
      "source": [
        "lattice = two_dim_ising(64,5,100*64*64)\n",
        "\n",
        "#black = -1 and white = 1\n",
        "colormap = mpl.colors.ListedColormap(['black', 'white'])\n",
        "img = plt.imshow(lattice, interpolation='none', cmap = colormap)"
      ],
      "execution_count": null,
      "outputs": [
        {
          "output_type": "display_data",
          "data": {
            "image/png": "[encoded data removed]",
            "text/plain": [
              "<Figure size 432x288 with 1 Axes>"
            ]
          },
          "metadata": {
            "tags": [],
            "needs_background": "light"
          }
        }
      ]
    },
    {
      "cell_type": "markdown",
      "metadata": {
        "id": "xRF2IcMCrbPf"
      },
      "source": [
        "## Closing Remarks"
      ]
    },
    {
      "cell_type": "markdown",
      "metadata": {
        "id": "Aqy1VrWprbPf"
      },
      "source": [
        "It looks like our plots follow what we would expect from the theory described above for a ferromagnetic material. Our function succesfully generates a random lattice and performs MCMC simulation steps at a given temperature."
      ]
    },
    {
      "cell_type": "markdown",
      "metadata": {
        "id": "U-kaDeIdrbPg"
      },
      "source": [
        "End of Notebook"
      ]
    }
  ]
}
